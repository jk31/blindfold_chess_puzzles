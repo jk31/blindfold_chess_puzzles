{
 "cells": [
  {
   "cell_type": "code",
   "execution_count": 38,
   "metadata": {},
   "outputs": [],
   "source": [
    "import re\n",
    "from collections import defaultdict, OrderedDict\n",
    "\n",
    "import numpy as np\n",
    "import pandas as pd\n",
    "import chess"
   ]
  },
  {
   "cell_type": "code",
   "execution_count": 2,
   "metadata": {},
   "outputs": [],
   "source": [
    "df = pd.read_csv(\"../data/lichess_db_puzzle.csv\", header=None)"
   ]
  },
  {
   "cell_type": "code",
   "execution_count": 3,
   "metadata": {},
   "outputs": [],
   "source": [
    "df = df[:100]"
   ]
  },
  {
   "cell_type": "code",
   "execution_count": 4,
   "metadata": {},
   "outputs": [],
   "source": [
    "df = df.rename(columns={0: \"id\", 1: \"fen\", 2: \"moves\", 3: \"rating\", 4: \"rating deviation\", 5: \"popularity\", 6: \"nbplays\", 7: \"themes\", 8: \"gameurl\"})"
   ]
  },
  {
   "cell_type": "code",
   "execution_count": 5,
   "metadata": {},
   "outputs": [],
   "source": [
    "def moves_to_san(x):\n",
    "    \"Transform the list of moves to a list of moves in the algebraic notation\"\n",
    "    \n",
    "    # get fen and puzzule solution in uic format\n",
    "    fen = x[\"fen\"]\n",
    "    moves = x[\"moves\"]\n",
    "    \n",
    "    # create temporary board\n",
    "    board = chess.Board(fen)\n",
    "    \n",
    "    # make a list of the solution\n",
    "    moves_list = moves.split(\" \")\n",
    "    san_list = \"\"\n",
    "    \n",
    "    # we need the first fen after the first solution move because it is played by the cpu\n",
    "    need_fen_after_first_move = True\n",
    "    \n",
    "    # iterate over the moves and play it on the temporary board\n",
    "    for move in moves_list:\n",
    "        next_move = chess.Move.from_uci(move)\n",
    "        # get the algebraic notation of the move and append it to the string\n",
    "        san = board.san(next_move)\n",
    "        san_list = san_list + \" \" + san\n",
    "        board.push(next_move)\n",
    "        \n",
    "        # saves the needed first fen\n",
    "        if need_fen_after_first_move:\n",
    "            fen_after_first_move = board.fen()\n",
    "            need_fen_after_first_move = False\n",
    "            \n",
    "    return san_list, board.fen(), fen_after_first_move"
   ]
  },
  {
   "cell_type": "code",
   "execution_count": 6,
   "metadata": {},
   "outputs": [],
   "source": [
    "# Make algebraic notation and clean\n",
    "df[\"moves_alg\"], df[\"final_fen\"], df[\"fen_after_first_move\"] = zip(*df.apply(moves_to_san, axis=1))"
   ]
  },
  {
   "cell_type": "code",
   "execution_count": 7,
   "metadata": {},
   "outputs": [],
   "source": [
    "# Split final fen for more information\n",
    "df[[\"placement\", \"active\", \"castling\", \"enpassant\", \"halfmove_clock\", \"fullmove_clock\"]] = df[\"fen_after_first_move\"].str.split(\" \", expand=True)"
   ]
  },
  {
   "cell_type": "code",
   "execution_count": 43,
   "metadata": {},
   "outputs": [],
   "source": [
    "def pieces_and_positions(x):\n",
    "    \"return the number of pieces and the positions as a sorted dictionairy\"\n",
    "    \n",
    "    # get the column with the FEN placement\n",
    "    placement = x[\"placement\"]\n",
    "    \n",
    "    all_squares = [chess.A1, chess.A2, chess.A3, chess.A4, chess.A5, chess.A6, chess.A7, chess.A8, \n",
    "                   chess.B1, chess.B2, chess.B3, chess.B4, chess.B5, chess.B6, chess.B7, chess.B8, \n",
    "                   chess.C1, chess.C2, chess.C3, chess.C4, chess.C5, chess.C6, chess.C7, chess.C8, \n",
    "                   chess.D1, chess.D2, chess.D3, chess.D4, chess.D5, chess.D6, chess.D7, chess.D8, \n",
    "                   chess.E1, chess.E2, chess.E3, chess.E4, chess.E5, chess.E6, chess.E7, chess.E8, \n",
    "                   chess.F1, chess.F2, chess.F3, chess.F4, chess.F5, chess.F6, chess.F7, chess.F8, \n",
    "                   chess.G1, chess.G2, chess.G3, chess.G4, chess.G5, chess.G6, chess.G7, chess.G8, \n",
    "                   chess.H1, chess.H2, chess.H3, chess.H4, chess.H5, chess.H6, chess.H7, chess.H8]\n",
    "    \n",
    "    # create temporary board\n",
    "    board = chess.Board(placement)\n",
    "    \n",
    "    # count all pieces from the FEN placement\n",
    "    number_pieces = len(re.findall(r\"[pPrRbBnNqQkK]\", placement))\n",
    "           \n",
    "    # create defaultdict with lists\n",
    "    positions_dict = defaultdict(list)\n",
    "    # iterate over all possible squares and if there is a piece append \n",
    "    # it to the default dict with the piece as key and position as value\n",
    "    for square in all_squares:\n",
    "            if piece := board.piece_at(square):\n",
    "                positions_dict[str(piece)].append(chess.square_name(square))\n",
    "    # order from white pawn to black king\n",
    "    order = {\"p\": 6, \"P\": 0, \"r\": 7, \"R\": 1, \"b\": 8, \"B\": 2, \"n\": 9, \"N\": 3, \"q\": 10, \"Q\": 4, \"k\": 11, \"K\": 5,}\n",
    "    positions = dict(OrderedDict(sorted(positions_dict.items(), key=lambda val: order[val[0]])))\n",
    "    \n",
    "    return number_pieces, positions"
   ]
  },
  {
   "cell_type": "code",
   "execution_count": 44,
   "metadata": {},
   "outputs": [],
   "source": [
    "# Count number of pieces, get all piece positions\n",
    "df[\"number_of_pieces\"], df[\"positions\"] = zip(*df.apply(pieces_and_positions, axis=1))"
   ]
  },
  {
   "cell_type": "code",
   "execution_count": 10,
   "metadata": {},
   "outputs": [],
   "source": [
    "# Drop columns\n",
    "df = df.drop(columns=[\"id\", \"fen\", \"final_fen\", \"rating deviation\", \"popularity\", \"nbplays\", \"halfmove_clock\", \"fullmove_clock\"])"
   ]
  },
  {
   "cell_type": "code",
   "execution_count": 11,
   "metadata": {},
   "outputs": [],
   "source": [
    "# Create IDs\n",
    "df['id'] = np.arange(1, df.shape[0] + 1)"
   ]
  },
  {
   "cell_type": "code",
   "execution_count": null,
   "metadata": {},
   "outputs": [],
   "source": [
    "df.to_csv(\"../data/puzzles_alg.csv\", index=False)"
   ]
  },
  {
   "cell_type": "code",
   "execution_count": null,
   "metadata": {},
   "outputs": [],
   "source": [
    "df.to_json(\"../data/puzzles_alg.json\", orient=\"records\")"
   ]
  },
  {
   "cell_type": "markdown",
   "metadata": {},
   "source": [
    "# Testing"
   ]
  },
  {
   "cell_type": "code",
   "execution_count": 41,
   "metadata": {},
   "outputs": [
    {
     "data": {
      "text/html": [
       "<div>\n",
       "<style scoped>\n",
       "    .dataframe tbody tr th:only-of-type {\n",
       "        vertical-align: middle;\n",
       "    }\n",
       "\n",
       "    .dataframe tbody tr th {\n",
       "        vertical-align: top;\n",
       "    }\n",
       "\n",
       "    .dataframe thead th {\n",
       "        text-align: right;\n",
       "    }\n",
       "</style>\n",
       "<table border=\"1\" class=\"dataframe\">\n",
       "  <thead>\n",
       "    <tr style=\"text-align: right;\">\n",
       "      <th></th>\n",
       "      <th>fen</th>\n",
       "      <th>moves</th>\n",
       "      <th>rating</th>\n",
       "      <th>themes</th>\n",
       "      <th>gameurl</th>\n",
       "      <th>moves_alg</th>\n",
       "      <th>final_fen</th>\n",
       "      <th>fen_after_first_move</th>\n",
       "      <th>placement</th>\n",
       "      <th>active</th>\n",
       "      <th>castling</th>\n",
       "      <th>enpassant</th>\n",
       "      <th>number_of_pieces</th>\n",
       "      <th>positions</th>\n",
       "      <th>id</th>\n",
       "    </tr>\n",
       "  </thead>\n",
       "  <tbody>\n",
       "    <tr>\n",
       "      <th>0</th>\n",
       "      <td>5rk1/1p3ppp/pq3b2/8/8/1P1Q1N2/P4PPP/3R2K1 w - ...</td>\n",
       "      <td>d3d6 f8d8 d6d8 f6d8</td>\n",
       "      <td>1488</td>\n",
       "      <td>advantage endgame short</td>\n",
       "      <td>https://lichess.org/F8M8OS71#53</td>\n",
       "      <td>Qd6 Rd8 Qxd8+ Bxd8</td>\n",
       "      <td>3b2k1/1p3ppp/pq6/8/8/1P3N2/P4PPP/3R2K1 w - - 0 29</td>\n",
       "      <td>5rk1/1p3ppp/pq1Q1b2/8/8/1P3N2/P4PPP/3R2K1 b - ...</td>\n",
       "      <td>5rk1/1p3ppp/pq1Q1b2/8/8/1P3N2/P4PPP/3R2K1</td>\n",
       "      <td>b</td>\n",
       "      <td>-</td>\n",
       "      <td>-</td>\n",
       "      <td>18</td>\n",
       "      <td>{'P': ['a2', 'b3', 'f2', 'g2', 'h2'], 'R': ['d...</td>\n",
       "      <td>1</td>\n",
       "    </tr>\n",
       "    <tr>\n",
       "      <th>1</th>\n",
       "      <td>r2qr1k1/b1p2ppp/pp4n1/P1P1p3/4P1n1/B2P2Pb/3NBP...</td>\n",
       "      <td>b6c5 e2g4 h3g4 d1g4</td>\n",
       "      <td>1145</td>\n",
       "      <td>advantage middlegame short</td>\n",
       "      <td>https://lichess.org/4MWQCxQ6/black#32</td>\n",
       "      <td>bxc5 Bxg4 Bxg4 Qxg4</td>\n",
       "      <td>r2qr1k1/b1p2ppp/p5n1/P1p1p3/4P1Q1/B2P2P1/3N1P1...</td>\n",
       "      <td>r2qr1k1/b1p2ppp/p5n1/P1p1p3/4P1n1/B2P2Pb/3NBP1...</td>\n",
       "      <td>r2qr1k1/b1p2ppp/p5n1/P1p1p3/4P1n1/B2P2Pb/3NBP1...</td>\n",
       "      <td>w</td>\n",
       "      <td>-</td>\n",
       "      <td>-</td>\n",
       "      <td>29</td>\n",
       "      <td>{'P': ['a5', 'd3', 'e4', 'f2', 'g3', 'h2'], 'R...</td>\n",
       "      <td>2</td>\n",
       "    </tr>\n",
       "    <tr>\n",
       "      <th>2</th>\n",
       "      <td>r4rk1/pp3ppp/2n1b3/q1pp2B1/8/P1Q2NP1/1PP1PP1P/...</td>\n",
       "      <td>g5e7 a5c3 b2c3 c6e7</td>\n",
       "      <td>1407</td>\n",
       "      <td>advantage master middlegame short</td>\n",
       "      <td>https://lichess.org/iihZGl6t#29</td>\n",
       "      <td>Be7 Qxc3 bxc3 Nxe7</td>\n",
       "      <td>r4rk1/pp2nppp/4b3/2pp4/8/P1P2NP1/2P1PP1P/2KR3R...</td>\n",
       "      <td>r4rk1/pp2Bppp/2n1b3/q1pp4/8/P1Q2NP1/1PP1PP1P/2...</td>\n",
       "      <td>r4rk1/pp2Bppp/2n1b3/q1pp4/8/P1Q2NP1/1PP1PP1P/2...</td>\n",
       "      <td>b</td>\n",
       "      <td>-</td>\n",
       "      <td>-</td>\n",
       "      <td>26</td>\n",
       "      <td>{'P': ['a3', 'b2', 'c2', 'e2', 'f2', 'g3', 'h2...</td>\n",
       "      <td>3</td>\n",
       "    </tr>\n",
       "    <tr>\n",
       "      <th>3</th>\n",
       "      <td>3q1rk1/1pp3pp/5p1P/4pPP1/rb1pP3/3P1N2/b1P1B3/2...</td>\n",
       "      <td>d8a8 g5g6 h7g6 h6g7</td>\n",
       "      <td>2306</td>\n",
       "      <td>advancedPawn crushing kingsideAttack middlegam...</td>\n",
       "      <td>https://lichess.org/FLmpZbTm/black#52</td>\n",
       "      <td>Qa8 g6 hxg6 hxg7</td>\n",
       "      <td>q4rk1/1pp3P1/5pp1/4pP2/rb1pP3/3P1N2/b1P1B3/2QK...</td>\n",
       "      <td>q4rk1/1pp3pp/5p1P/4pPP1/rb1pP3/3P1N2/b1P1B3/2Q...</td>\n",
       "      <td>q4rk1/1pp3pp/5p1P/4pPP1/rb1pP3/3P1N2/b1P1B3/2Q...</td>\n",
       "      <td>w</td>\n",
       "      <td>-</td>\n",
       "      <td>-</td>\n",
       "      <td>25</td>\n",
       "      <td>{'P': ['c2', 'd3', 'e4', 'f5', 'g5', 'h6'], 'R...</td>\n",
       "      <td>4</td>\n",
       "    </tr>\n",
       "    <tr>\n",
       "      <th>4</th>\n",
       "      <td>4r3/5pk1/1p3np1/3p3p/2qQ4/P4N1P/1P3RP1/7K w - ...</td>\n",
       "      <td>d4b6 f6e4 h1g1 e4f2</td>\n",
       "      <td>2038</td>\n",
       "      <td>crushing endgame short trappedPiece</td>\n",
       "      <td>https://lichess.org/GeXqsW90#67</td>\n",
       "      <td>Qxb6 Ne4 Kg1 Nxf2</td>\n",
       "      <td>4r3/5pk1/1Q4p1/3p3p/2q5/P4N1P/1P3nP1/6K1 w - -...</td>\n",
       "      <td>4r3/5pk1/1Q3np1/3p3p/2q5/P4N1P/1P3RP1/7K b - -...</td>\n",
       "      <td>4r3/5pk1/1Q3np1/3p3p/2q5/P4N1P/1P3RP1/7K</td>\n",
       "      <td>b</td>\n",
       "      <td>-</td>\n",
       "      <td>-</td>\n",
       "      <td>16</td>\n",
       "      <td>{'P': ['a3', 'b2', 'g2', 'h3'], 'R': ['f2'], '...</td>\n",
       "      <td>5</td>\n",
       "    </tr>\n",
       "  </tbody>\n",
       "</table>\n",
       "</div>"
      ],
      "text/plain": [
       "                                                 fen                moves  \\\n",
       "0  5rk1/1p3ppp/pq3b2/8/8/1P1Q1N2/P4PPP/3R2K1 w - ...  d3d6 f8d8 d6d8 f6d8   \n",
       "1  r2qr1k1/b1p2ppp/pp4n1/P1P1p3/4P1n1/B2P2Pb/3NBP...  b6c5 e2g4 h3g4 d1g4   \n",
       "2  r4rk1/pp3ppp/2n1b3/q1pp2B1/8/P1Q2NP1/1PP1PP1P/...  g5e7 a5c3 b2c3 c6e7   \n",
       "3  3q1rk1/1pp3pp/5p1P/4pPP1/rb1pP3/3P1N2/b1P1B3/2...  d8a8 g5g6 h7g6 h6g7   \n",
       "4  4r3/5pk1/1p3np1/3p3p/2qQ4/P4N1P/1P3RP1/7K w - ...  d4b6 f6e4 h1g1 e4f2   \n",
       "\n",
       "   rating                                             themes  \\\n",
       "0    1488                            advantage endgame short   \n",
       "1    1145                         advantage middlegame short   \n",
       "2    1407                  advantage master middlegame short   \n",
       "3    2306  advancedPawn crushing kingsideAttack middlegam...   \n",
       "4    2038                crushing endgame short trappedPiece   \n",
       "\n",
       "                                 gameurl             moves_alg  \\\n",
       "0        https://lichess.org/F8M8OS71#53    Qd6 Rd8 Qxd8+ Bxd8   \n",
       "1  https://lichess.org/4MWQCxQ6/black#32   bxc5 Bxg4 Bxg4 Qxg4   \n",
       "2        https://lichess.org/iihZGl6t#29    Be7 Qxc3 bxc3 Nxe7   \n",
       "3  https://lichess.org/FLmpZbTm/black#52      Qa8 g6 hxg6 hxg7   \n",
       "4        https://lichess.org/GeXqsW90#67     Qxb6 Ne4 Kg1 Nxf2   \n",
       "\n",
       "                                           final_fen  \\\n",
       "0  3b2k1/1p3ppp/pq6/8/8/1P3N2/P4PPP/3R2K1 w - - 0 29   \n",
       "1  r2qr1k1/b1p2ppp/p5n1/P1p1p3/4P1Q1/B2P2P1/3N1P1...   \n",
       "2  r4rk1/pp2nppp/4b3/2pp4/8/P1P2NP1/2P1PP1P/2KR3R...   \n",
       "3  q4rk1/1pp3P1/5pp1/4pP2/rb1pP3/3P1N2/b1P1B3/2QK...   \n",
       "4  4r3/5pk1/1Q4p1/3p3p/2q5/P4N1P/1P3nP1/6K1 w - -...   \n",
       "\n",
       "                                fen_after_first_move  \\\n",
       "0  5rk1/1p3ppp/pq1Q1b2/8/8/1P3N2/P4PPP/3R2K1 b - ...   \n",
       "1  r2qr1k1/b1p2ppp/p5n1/P1p1p3/4P1n1/B2P2Pb/3NBP1...   \n",
       "2  r4rk1/pp2Bppp/2n1b3/q1pp4/8/P1Q2NP1/1PP1PP1P/2...   \n",
       "3  q4rk1/1pp3pp/5p1P/4pPP1/rb1pP3/3P1N2/b1P1B3/2Q...   \n",
       "4  4r3/5pk1/1Q3np1/3p3p/2q5/P4N1P/1P3RP1/7K b - -...   \n",
       "\n",
       "                                           placement active castling  \\\n",
       "0          5rk1/1p3ppp/pq1Q1b2/8/8/1P3N2/P4PPP/3R2K1      b        -   \n",
       "1  r2qr1k1/b1p2ppp/p5n1/P1p1p3/4P1n1/B2P2Pb/3NBP1...      w        -   \n",
       "2  r4rk1/pp2Bppp/2n1b3/q1pp4/8/P1Q2NP1/1PP1PP1P/2...      b        -   \n",
       "3  q4rk1/1pp3pp/5p1P/4pPP1/rb1pP3/3P1N2/b1P1B3/2Q...      w        -   \n",
       "4           4r3/5pk1/1Q3np1/3p3p/2q5/P4N1P/1P3RP1/7K      b        -   \n",
       "\n",
       "  enpassant  number_of_pieces  \\\n",
       "0         -                18   \n",
       "1         -                29   \n",
       "2         -                26   \n",
       "3         -                25   \n",
       "4         -                16   \n",
       "\n",
       "                                           positions  id  \n",
       "0  {'P': ['a2', 'b3', 'f2', 'g2', 'h2'], 'R': ['d...   1  \n",
       "1  {'P': ['a5', 'd3', 'e4', 'f2', 'g3', 'h2'], 'R...   2  \n",
       "2  {'P': ['a3', 'b2', 'c2', 'e2', 'f2', 'g3', 'h2...   3  \n",
       "3  {'P': ['c2', 'd3', 'e4', 'f5', 'g5', 'h6'], 'R...   4  \n",
       "4  {'P': ['a3', 'b2', 'g2', 'h3'], 'R': ['f2'], '...   5  "
      ]
     },
     "execution_count": 41,
     "metadata": {},
     "output_type": "execute_result"
    }
   ],
   "source": [
    "df.head()"
   ]
  },
  {
   "cell_type": "code",
   "execution_count": 17,
   "metadata": {},
   "outputs": [],
   "source": [
    "placement = df.iloc[0, :][\"placement\"]"
   ]
  },
  {
   "cell_type": "code",
   "execution_count": 20,
   "metadata": {},
   "outputs": [],
   "source": [
    "board = chess.Board(placement)"
   ]
  },
  {
   "cell_type": "code",
   "execution_count": 45,
   "metadata": {},
   "outputs": [
    {
     "data": {
      "text/plain": [
       "{'P': ['a2', 'b3', 'f2', 'g2', 'h2'],\n",
       " 'R': ['d1'],\n",
       " 'N': ['f3'],\n",
       " 'Q': ['d6'],\n",
       " 'K': ['g1'],\n",
       " 'p': ['a6', 'b7', 'f7', 'g7', 'h7'],\n",
       " 'r': ['f8'],\n",
       " 'b': ['f6'],\n",
       " 'q': ['b6'],\n",
       " 'k': ['g8']}"
      ]
     },
     "execution_count": 45,
     "metadata": {},
     "output_type": "execute_result"
    }
   ],
   "source": [
    "df.iloc[0, :][\"positions\"]"
   ]
  },
  {
   "cell_type": "code",
   "execution_count": 12,
   "metadata": {
    "scrolled": true
   },
   "outputs": [
    {
     "data": {
      "text/html": [
       "<div>\n",
       "<style scoped>\n",
       "    .dataframe tbody tr th:only-of-type {\n",
       "        vertical-align: middle;\n",
       "    }\n",
       "\n",
       "    .dataframe tbody tr th {\n",
       "        vertical-align: top;\n",
       "    }\n",
       "\n",
       "    .dataframe thead th {\n",
       "        text-align: right;\n",
       "    }\n",
       "</style>\n",
       "<table border=\"1\" class=\"dataframe\">\n",
       "  <thead>\n",
       "    <tr style=\"text-align: right;\">\n",
       "      <th></th>\n",
       "      <th>fen</th>\n",
       "      <th>moves</th>\n",
       "      <th>rating</th>\n",
       "      <th>themes</th>\n",
       "      <th>gameurl</th>\n",
       "      <th>moves_alg</th>\n",
       "      <th>final_fen</th>\n",
       "      <th>fen_after_first_move</th>\n",
       "      <th>placement</th>\n",
       "      <th>active</th>\n",
       "      <th>castling</th>\n",
       "      <th>enpassant</th>\n",
       "      <th>number_of_pieces</th>\n",
       "      <th>positions</th>\n",
       "      <th>id</th>\n",
       "    </tr>\n",
       "  </thead>\n",
       "  <tbody>\n",
       "    <tr>\n",
       "      <th>0</th>\n",
       "      <td>5rk1/1p3ppp/pq3b2/8/8/1P1Q1N2/P4PPP/3R2K1 w - ...</td>\n",
       "      <td>d3d6 f8d8 d6d8 f6d8</td>\n",
       "      <td>1488</td>\n",
       "      <td>advantage endgame short</td>\n",
       "      <td>https://lichess.org/F8M8OS71#53</td>\n",
       "      <td>Qd6 Rd8 Qxd8+ Bxd8</td>\n",
       "      <td>3b2k1/1p3ppp/pq6/8/8/1P3N2/P4PPP/3R2K1 w - - 0 29</td>\n",
       "      <td>5rk1/1p3ppp/pq1Q1b2/8/8/1P3N2/P4PPP/3R2K1 b - ...</td>\n",
       "      <td>5rk1/1p3ppp/pq1Q1b2/8/8/1P3N2/P4PPP/3R2K1</td>\n",
       "      <td>b</td>\n",
       "      <td>-</td>\n",
       "      <td>-</td>\n",
       "      <td>18</td>\n",
       "      <td>P a2, p a6, P b3, q b6, p b7, R d1, Q d6, P f2...</td>\n",
       "      <td>1</td>\n",
       "    </tr>\n",
       "    <tr>\n",
       "      <th>1</th>\n",
       "      <td>r2qr1k1/b1p2ppp/pp4n1/P1P1p3/4P1n1/B2P2Pb/3NBP...</td>\n",
       "      <td>b6c5 e2g4 h3g4 d1g4</td>\n",
       "      <td>1145</td>\n",
       "      <td>advantage middlegame short</td>\n",
       "      <td>https://lichess.org/4MWQCxQ6/black#32</td>\n",
       "      <td>bxc5 Bxg4 Bxg4 Qxg4</td>\n",
       "      <td>r2qr1k1/b1p2ppp/p5n1/P1p1p3/4P1Q1/B2P2P1/3N1P1...</td>\n",
       "      <td>r2qr1k1/b1p2ppp/p5n1/P1p1p3/4P1n1/B2P2Pb/3NBP1...</td>\n",
       "      <td>r2qr1k1/b1p2ppp/p5n1/P1p1p3/4P1n1/B2P2Pb/3NBP1...</td>\n",
       "      <td>w</td>\n",
       "      <td>-</td>\n",
       "      <td>-</td>\n",
       "      <td>29</td>\n",
       "      <td>R a1, B a3, P a5, p a6, b a7, r a8, N b1, p c5...</td>\n",
       "      <td>2</td>\n",
       "    </tr>\n",
       "    <tr>\n",
       "      <th>2</th>\n",
       "      <td>r4rk1/pp3ppp/2n1b3/q1pp2B1/8/P1Q2NP1/1PP1PP1P/...</td>\n",
       "      <td>g5e7 a5c3 b2c3 c6e7</td>\n",
       "      <td>1407</td>\n",
       "      <td>advantage master middlegame short</td>\n",
       "      <td>https://lichess.org/iihZGl6t#29</td>\n",
       "      <td>Be7 Qxc3 bxc3 Nxe7</td>\n",
       "      <td>r4rk1/pp2nppp/4b3/2pp4/8/P1P2NP1/2P1PP1P/2KR3R...</td>\n",
       "      <td>r4rk1/pp2Bppp/2n1b3/q1pp4/8/P1Q2NP1/1PP1PP1P/2...</td>\n",
       "      <td>r4rk1/pp2Bppp/2n1b3/q1pp4/8/P1Q2NP1/1PP1PP1P/2...</td>\n",
       "      <td>b</td>\n",
       "      <td>-</td>\n",
       "      <td>-</td>\n",
       "      <td>26</td>\n",
       "      <td>P a3, q a5, p a7, r a8, P b2, p b7, K c1, P c2...</td>\n",
       "      <td>3</td>\n",
       "    </tr>\n",
       "    <tr>\n",
       "      <th>3</th>\n",
       "      <td>3q1rk1/1pp3pp/5p1P/4pPP1/rb1pP3/3P1N2/b1P1B3/2...</td>\n",
       "      <td>d8a8 g5g6 h7g6 h6g7</td>\n",
       "      <td>2306</td>\n",
       "      <td>advancedPawn crushing kingsideAttack middlegam...</td>\n",
       "      <td>https://lichess.org/FLmpZbTm/black#52</td>\n",
       "      <td>Qa8 g6 hxg6 hxg7</td>\n",
       "      <td>q4rk1/1pp3P1/5pp1/4pP2/rb1pP3/3P1N2/b1P1B3/2QK...</td>\n",
       "      <td>q4rk1/1pp3pp/5p1P/4pPP1/rb1pP3/3P1N2/b1P1B3/2Q...</td>\n",
       "      <td>q4rk1/1pp3pp/5p1P/4pPP1/rb1pP3/3P1N2/b1P1B3/2Q...</td>\n",
       "      <td>w</td>\n",
       "      <td>-</td>\n",
       "      <td>-</td>\n",
       "      <td>25</td>\n",
       "      <td>b a2, r a4, q a8, b b4, p b7, Q c1, P c2, p c7...</td>\n",
       "      <td>4</td>\n",
       "    </tr>\n",
       "    <tr>\n",
       "      <th>4</th>\n",
       "      <td>4r3/5pk1/1p3np1/3p3p/2qQ4/P4N1P/1P3RP1/7K w - ...</td>\n",
       "      <td>d4b6 f6e4 h1g1 e4f2</td>\n",
       "      <td>2038</td>\n",
       "      <td>crushing endgame short trappedPiece</td>\n",
       "      <td>https://lichess.org/GeXqsW90#67</td>\n",
       "      <td>Qxb6 Ne4 Kg1 Nxf2</td>\n",
       "      <td>4r3/5pk1/1Q4p1/3p3p/2q5/P4N1P/1P3nP1/6K1 w - -...</td>\n",
       "      <td>4r3/5pk1/1Q3np1/3p3p/2q5/P4N1P/1P3RP1/7K b - -...</td>\n",
       "      <td>4r3/5pk1/1Q3np1/3p3p/2q5/P4N1P/1P3RP1/7K</td>\n",
       "      <td>b</td>\n",
       "      <td>-</td>\n",
       "      <td>-</td>\n",
       "      <td>16</td>\n",
       "      <td>P a3, P b2, Q b6, q c4, p d5, r e8, R f2, N f3...</td>\n",
       "      <td>5</td>\n",
       "    </tr>\n",
       "  </tbody>\n",
       "</table>\n",
       "</div>"
      ],
      "text/plain": [
       "                                                 fen                moves  \\\n",
       "0  5rk1/1p3ppp/pq3b2/8/8/1P1Q1N2/P4PPP/3R2K1 w - ...  d3d6 f8d8 d6d8 f6d8   \n",
       "1  r2qr1k1/b1p2ppp/pp4n1/P1P1p3/4P1n1/B2P2Pb/3NBP...  b6c5 e2g4 h3g4 d1g4   \n",
       "2  r4rk1/pp3ppp/2n1b3/q1pp2B1/8/P1Q2NP1/1PP1PP1P/...  g5e7 a5c3 b2c3 c6e7   \n",
       "3  3q1rk1/1pp3pp/5p1P/4pPP1/rb1pP3/3P1N2/b1P1B3/2...  d8a8 g5g6 h7g6 h6g7   \n",
       "4  4r3/5pk1/1p3np1/3p3p/2qQ4/P4N1P/1P3RP1/7K w - ...  d4b6 f6e4 h1g1 e4f2   \n",
       "\n",
       "   rating                                             themes  \\\n",
       "0    1488                            advantage endgame short   \n",
       "1    1145                         advantage middlegame short   \n",
       "2    1407                  advantage master middlegame short   \n",
       "3    2306  advancedPawn crushing kingsideAttack middlegam...   \n",
       "4    2038                crushing endgame short trappedPiece   \n",
       "\n",
       "                                 gameurl             moves_alg  \\\n",
       "0        https://lichess.org/F8M8OS71#53    Qd6 Rd8 Qxd8+ Bxd8   \n",
       "1  https://lichess.org/4MWQCxQ6/black#32   bxc5 Bxg4 Bxg4 Qxg4   \n",
       "2        https://lichess.org/iihZGl6t#29    Be7 Qxc3 bxc3 Nxe7   \n",
       "3  https://lichess.org/FLmpZbTm/black#52      Qa8 g6 hxg6 hxg7   \n",
       "4        https://lichess.org/GeXqsW90#67     Qxb6 Ne4 Kg1 Nxf2   \n",
       "\n",
       "                                           final_fen  \\\n",
       "0  3b2k1/1p3ppp/pq6/8/8/1P3N2/P4PPP/3R2K1 w - - 0 29   \n",
       "1  r2qr1k1/b1p2ppp/p5n1/P1p1p3/4P1Q1/B2P2P1/3N1P1...   \n",
       "2  r4rk1/pp2nppp/4b3/2pp4/8/P1P2NP1/2P1PP1P/2KR3R...   \n",
       "3  q4rk1/1pp3P1/5pp1/4pP2/rb1pP3/3P1N2/b1P1B3/2QK...   \n",
       "4  4r3/5pk1/1Q4p1/3p3p/2q5/P4N1P/1P3nP1/6K1 w - -...   \n",
       "\n",
       "                                fen_after_first_move  \\\n",
       "0  5rk1/1p3ppp/pq1Q1b2/8/8/1P3N2/P4PPP/3R2K1 b - ...   \n",
       "1  r2qr1k1/b1p2ppp/p5n1/P1p1p3/4P1n1/B2P2Pb/3NBP1...   \n",
       "2  r4rk1/pp2Bppp/2n1b3/q1pp4/8/P1Q2NP1/1PP1PP1P/2...   \n",
       "3  q4rk1/1pp3pp/5p1P/4pPP1/rb1pP3/3P1N2/b1P1B3/2Q...   \n",
       "4  4r3/5pk1/1Q3np1/3p3p/2q5/P4N1P/1P3RP1/7K b - -...   \n",
       "\n",
       "                                           placement active castling  \\\n",
       "0          5rk1/1p3ppp/pq1Q1b2/8/8/1P3N2/P4PPP/3R2K1      b        -   \n",
       "1  r2qr1k1/b1p2ppp/p5n1/P1p1p3/4P1n1/B2P2Pb/3NBP1...      w        -   \n",
       "2  r4rk1/pp2Bppp/2n1b3/q1pp4/8/P1Q2NP1/1PP1PP1P/2...      b        -   \n",
       "3  q4rk1/1pp3pp/5p1P/4pPP1/rb1pP3/3P1N2/b1P1B3/2Q...      w        -   \n",
       "4           4r3/5pk1/1Q3np1/3p3p/2q5/P4N1P/1P3RP1/7K      b        -   \n",
       "\n",
       "  enpassant  number_of_pieces  \\\n",
       "0         -                18   \n",
       "1         -                29   \n",
       "2         -                26   \n",
       "3         -                25   \n",
       "4         -                16   \n",
       "\n",
       "                                           positions  id  \n",
       "0  P a2, p a6, P b3, q b6, p b7, R d1, Q d6, P f2...   1  \n",
       "1  R a1, B a3, P a5, p a6, b a7, r a8, N b1, p c5...   2  \n",
       "2  P a3, q a5, p a7, r a8, P b2, p b7, K c1, P c2...   3  \n",
       "3  b a2, r a4, q a8, b b4, p b7, Q c1, P c2, p c7...   4  \n",
       "4  P a3, P b2, Q b6, q c4, p d5, r e8, R f2, N f3...   5  "
      ]
     },
     "execution_count": 12,
     "metadata": {},
     "output_type": "execute_result"
    }
   ],
   "source": [
    "df.head()"
   ]
  },
  {
   "cell_type": "code",
   "execution_count": 16,
   "metadata": {},
   "outputs": [],
   "source": [
    "positions = {\"p\": [], \"P\":[], \"r\": [], \"R\": [], \"b\": [], \"B\": [], \"n\": [], \"N\": [], \"q\": [], \"Q\": [], \"k\": [], \"K\": [],}"
   ]
  },
  {
   "cell_type": "code",
   "execution_count": 14,
   "metadata": {},
   "outputs": [],
   "source": [
    "all_squares = [chess.A1, chess.A2, chess.A3, chess.A4, chess.A5, chess.A6, chess.A7, chess.A8, \n",
    "                   chess.B1, chess.B2, chess.B3, chess.B4, chess.B5, chess.B6, chess.B7, chess.B8, \n",
    "                   chess.C1, chess.C2, chess.C3, chess.C4, chess.C5, chess.C6, chess.C7, chess.C8, \n",
    "                   chess.D1, chess.D2, chess.D3, chess.D4, chess.D5, chess.D6, chess.D7, chess.D8, \n",
    "                   chess.E1, chess.E2, chess.E3, chess.E4, chess.E5, chess.E6, chess.E7, chess.E8, \n",
    "                   chess.F1, chess.F2, chess.F3, chess.F4, chess.F5, chess.F6, chess.F7, chess.F8, \n",
    "                   chess.G1, chess.G2, chess.G3, chess.G4, chess.G5, chess.G6, chess.G7, chess.G8, \n",
    "                   chess.H1, chess.H2, chess.H3, chess.H4, chess.H5, chess.H6, chess.H7, chess.H8]"
   ]
  },
  {
   "cell_type": "code",
   "execution_count": 26,
   "metadata": {},
   "outputs": [
    {
     "name": "stdout",
     "output_type": "stream",
     "text": [
      "P a2\n",
      "p a6\n",
      "P b3\n",
      "q b6\n",
      "p b7\n",
      "R d1\n",
      "Q d6\n",
      "P f2\n",
      "N f3\n",
      "b f6\n",
      "p f7\n",
      "r f8\n",
      "K g1\n",
      "P g2\n",
      "p g7\n",
      "k g8\n",
      "P h2\n",
      "p h7\n"
     ]
    }
   ],
   "source": [
    "from collections import defaultdict, OrderedDict\n",
    "\n",
    "positions_dict = defaultdict(list)\n",
    "\n",
    "for square in all_squares:\n",
    "        if piece := board.piece_at(square):\n",
    "            positions_dict[str(piece)].append(chess.square_name(square))"
   ]
  },
  {
   "cell_type": "code",
   "execution_count": 27,
   "metadata": {},
   "outputs": [
    {
     "data": {
      "text/plain": [
       "{'P': ['a2', 'b3', 'f2', 'g2', 'h2'],\n",
       " 'p': ['a6', 'b7', 'f7', 'g7', 'h7'],\n",
       " 'q': ['b6'],\n",
       " 'R': ['d1'],\n",
       " 'Q': ['d6'],\n",
       " 'N': ['f3'],\n",
       " 'b': ['f6'],\n",
       " 'r': ['f8'],\n",
       " 'K': ['g1'],\n",
       " 'k': ['g8']}"
      ]
     },
     "execution_count": 27,
     "metadata": {},
     "output_type": "execute_result"
    }
   ],
   "source": [
    "dict(positions_dict)"
   ]
  },
  {
   "cell_type": "code",
   "execution_count": 37,
   "metadata": {},
   "outputs": [
    {
     "data": {
      "text/plain": [
       "OrderedDict([('P', ['a2', 'b3', 'f2', 'g2', 'h2']),\n",
       "             ('R', ['d1']),\n",
       "             ('N', ['f3']),\n",
       "             ('Q', ['d6']),\n",
       "             ('K', ['g1']),\n",
       "             ('p', ['a6', 'b7', 'f7', 'g7', 'h7']),\n",
       "             ('r', ['f8']),\n",
       "             ('b', ['f6']),\n",
       "             ('q', ['b6']),\n",
       "             ('k', ['g8'])])"
      ]
     },
     "execution_count": 37,
     "metadata": {},
     "output_type": "execute_result"
    }
   ],
   "source": [
    "order = {\"p\": 6, \"P\": 0, \"r\": 7, \"R\": 1, \"b\": 8, \"B\": 2, \"n\": 9, \"N\": 3, \"q\": 10, \"Q\": 4, \"k\": 11, \"K\": 5,}\n",
    "  \n",
    "OrderedDict(sorted(positions_dict.items(), key=lambda val: order[val[0]]))"
   ]
  },
  {
   "cell_type": "code",
   "execution_count": 36,
   "metadata": {},
   "outputs": [
    {
     "data": {
      "text/plain": [
       "6"
      ]
     },
     "execution_count": 36,
     "metadata": {},
     "output_type": "execute_result"
    }
   ],
   "source": [
    "sort_pieces(\"p\")"
   ]
  }
 ],
 "metadata": {
  "kernelspec": {
   "display_name": "Python 3",
   "language": "python",
   "name": "python3"
  },
  "language_info": {
   "codemirror_mode": {
    "name": "ipython",
    "version": 3
   },
   "file_extension": ".py",
   "mimetype": "text/x-python",
   "name": "python",
   "nbconvert_exporter": "python",
   "pygments_lexer": "ipython3",
   "version": "3.9.4"
  },
  "metadata": {
   "interpreter": {
    "hash": "e2a7c3d20469dda411fd3211f02092a920078d1ca97c72d3dc7928b841d3a44a"
   }
  }
 },
 "nbformat": 4,
 "nbformat_minor": 2
}
