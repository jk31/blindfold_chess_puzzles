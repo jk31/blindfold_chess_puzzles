{
 "cells": [
  {
   "cell_type": "code",
   "execution_count": 33,
   "metadata": {},
   "outputs": [],
   "source": [
    "import re\n",
    "from collections import defaultdict, OrderedDict\n",
    "\n",
    "import numpy as np\n",
    "import pandas as pd\n",
    "import chess"
   ]
  },
  {
   "cell_type": "code",
   "execution_count": 34,
   "metadata": {},
   "outputs": [],
   "source": [
    "df = pd.read_csv(\"../data/lichess_db_puzzle.csv\", header=None)"
   ]
  },
  {
   "cell_type": "code",
   "execution_count": 35,
   "metadata": {},
   "outputs": [],
   "source": [
    "df = df[:100000]"
   ]
  },
  {
   "cell_type": "code",
   "execution_count": 36,
   "metadata": {},
   "outputs": [
    {
     "data": {
      "text/html": [
       "<div>\n",
       "<style scoped>\n",
       "    .dataframe tbody tr th:only-of-type {\n",
       "        vertical-align: middle;\n",
       "    }\n",
       "\n",
       "    .dataframe tbody tr th {\n",
       "        vertical-align: top;\n",
       "    }\n",
       "\n",
       "    .dataframe thead th {\n",
       "        text-align: right;\n",
       "    }\n",
       "</style>\n",
       "<table border=\"1\" class=\"dataframe\">\n",
       "  <thead>\n",
       "    <tr style=\"text-align: right;\">\n",
       "      <th></th>\n",
       "      <th>0</th>\n",
       "      <th>1</th>\n",
       "      <th>2</th>\n",
       "      <th>3</th>\n",
       "      <th>4</th>\n",
       "      <th>5</th>\n",
       "      <th>6</th>\n",
       "      <th>7</th>\n",
       "      <th>8</th>\n",
       "    </tr>\n",
       "  </thead>\n",
       "  <tbody>\n",
       "    <tr>\n",
       "      <th>0</th>\n",
       "      <td>0000D</td>\n",
       "      <td>5rk1/1p3ppp/pq3b2/8/8/1P1Q1N2/P4PPP/3R2K1 w - ...</td>\n",
       "      <td>d3d6 f8d8 d6d8 f6d8</td>\n",
       "      <td>1488</td>\n",
       "      <td>75</td>\n",
       "      <td>97</td>\n",
       "      <td>3160</td>\n",
       "      <td>advantage endgame short</td>\n",
       "      <td>https://lichess.org/F8M8OS71#53</td>\n",
       "    </tr>\n",
       "    <tr>\n",
       "      <th>1</th>\n",
       "      <td>0009B</td>\n",
       "      <td>r2qr1k1/b1p2ppp/pp4n1/P1P1p3/4P1n1/B2P2Pb/3NBP...</td>\n",
       "      <td>b6c5 e2g4 h3g4 d1g4</td>\n",
       "      <td>1145</td>\n",
       "      <td>75</td>\n",
       "      <td>98</td>\n",
       "      <td>476</td>\n",
       "      <td>advantage middlegame short</td>\n",
       "      <td>https://lichess.org/4MWQCxQ6/black#32</td>\n",
       "    </tr>\n",
       "    <tr>\n",
       "      <th>2</th>\n",
       "      <td>000aY</td>\n",
       "      <td>r4rk1/pp3ppp/2n1b3/q1pp2B1/8/P1Q2NP1/1PP1PP1P/...</td>\n",
       "      <td>g5e7 a5c3 b2c3 c6e7</td>\n",
       "      <td>1407</td>\n",
       "      <td>75</td>\n",
       "      <td>91</td>\n",
       "      <td>243</td>\n",
       "      <td>advantage master middlegame short</td>\n",
       "      <td>https://lichess.org/iihZGl6t#29</td>\n",
       "    </tr>\n",
       "    <tr>\n",
       "      <th>3</th>\n",
       "      <td>000h7</td>\n",
       "      <td>3q1rk1/1pp3pp/5p1P/4pPP1/rb1pP3/3P1N2/b1P1B3/2...</td>\n",
       "      <td>d8a8 g5g6 h7g6 h6g7</td>\n",
       "      <td>2306</td>\n",
       "      <td>88</td>\n",
       "      <td>83</td>\n",
       "      <td>209</td>\n",
       "      <td>advancedPawn crushing kingsideAttack middlegam...</td>\n",
       "      <td>https://lichess.org/FLmpZbTm/black#52</td>\n",
       "    </tr>\n",
       "    <tr>\n",
       "      <th>4</th>\n",
       "      <td>000tp</td>\n",
       "      <td>4r3/5pk1/1p3np1/3p3p/2qQ4/P4N1P/1P3RP1/7K w - ...</td>\n",
       "      <td>d4b6 f6e4 h1g1 e4f2</td>\n",
       "      <td>2038</td>\n",
       "      <td>76</td>\n",
       "      <td>80</td>\n",
       "      <td>86</td>\n",
       "      <td>crushing endgame short trappedPiece</td>\n",
       "      <td>https://lichess.org/GeXqsW90#67</td>\n",
       "    </tr>\n",
       "  </tbody>\n",
       "</table>\n",
       "</div>"
      ],
      "text/plain": [
       "       0                                                  1  \\\n",
       "0  0000D  5rk1/1p3ppp/pq3b2/8/8/1P1Q1N2/P4PPP/3R2K1 w - ...   \n",
       "1  0009B  r2qr1k1/b1p2ppp/pp4n1/P1P1p3/4P1n1/B2P2Pb/3NBP...   \n",
       "2  000aY  r4rk1/pp3ppp/2n1b3/q1pp2B1/8/P1Q2NP1/1PP1PP1P/...   \n",
       "3  000h7  3q1rk1/1pp3pp/5p1P/4pPP1/rb1pP3/3P1N2/b1P1B3/2...   \n",
       "4  000tp  4r3/5pk1/1p3np1/3p3p/2qQ4/P4N1P/1P3RP1/7K w - ...   \n",
       "\n",
       "                     2     3   4   5     6  \\\n",
       "0  d3d6 f8d8 d6d8 f6d8  1488  75  97  3160   \n",
       "1  b6c5 e2g4 h3g4 d1g4  1145  75  98   476   \n",
       "2  g5e7 a5c3 b2c3 c6e7  1407  75  91   243   \n",
       "3  d8a8 g5g6 h7g6 h6g7  2306  88  83   209   \n",
       "4  d4b6 f6e4 h1g1 e4f2  2038  76  80    86   \n",
       "\n",
       "                                                   7  \\\n",
       "0                            advantage endgame short   \n",
       "1                         advantage middlegame short   \n",
       "2                  advantage master middlegame short   \n",
       "3  advancedPawn crushing kingsideAttack middlegam...   \n",
       "4                crushing endgame short trappedPiece   \n",
       "\n",
       "                                       8  \n",
       "0        https://lichess.org/F8M8OS71#53  \n",
       "1  https://lichess.org/4MWQCxQ6/black#32  \n",
       "2        https://lichess.org/iihZGl6t#29  \n",
       "3  https://lichess.org/FLmpZbTm/black#52  \n",
       "4        https://lichess.org/GeXqsW90#67  "
      ]
     },
     "execution_count": 36,
     "metadata": {},
     "output_type": "execute_result"
    }
   ],
   "source": [
    "df.head()"
   ]
  },
  {
   "cell_type": "code",
   "execution_count": 37,
   "metadata": {},
   "outputs": [],
   "source": [
    "df = df.rename(columns={0: \"puzzle_id\", 1: \"fen\", 2: \"moves\", 3: \"rating\", 4: \"rating deviation\", 5: \"popularity\", 6: \"nbplays\", 7: \"themes\", 8: \"gameurl\"})"
   ]
  },
  {
   "cell_type": "code",
   "execution_count": 38,
   "metadata": {},
   "outputs": [],
   "source": [
    "def moves_to_san(x):\n",
    "    \"Transform the list of moves to a list of moves in the algebraic notation\"\n",
    "    \n",
    "    # get fen and puzzule solution in uic format\n",
    "    fen = x[\"fen\"]\n",
    "    moves = x[\"moves\"]\n",
    "    \n",
    "    # create temporary board\n",
    "    board = chess.Board(fen)\n",
    "    \n",
    "    # make a list of the solution\n",
    "    moves_list = moves.split(\" \")\n",
    "    san_list = []\n",
    "    \n",
    "    # we need the first fen after the first solution move because it is played by the cpu\n",
    "    need_fen_after_first_move = True\n",
    "    \n",
    "    # iterate over the moves and play it on the temporary board\n",
    "    for move in moves_list:\n",
    "        next_move = chess.Move.from_uci(move)\n",
    "        # get the algebraic notation of the move and append it to the string\n",
    "        san = board.san(next_move)\n",
    "        san_list.append(san)\n",
    "        board.push(next_move)\n",
    "        \n",
    "        # saves the needed first fen\n",
    "        if need_fen_after_first_move:\n",
    "            fen_after_first_move = board.fen()\n",
    "            need_fen_after_first_move = False\n",
    "            \n",
    "    return san_list, board.fen(), fen_after_first_move"
   ]
  },
  {
   "cell_type": "code",
   "execution_count": 39,
   "metadata": {},
   "outputs": [
    {
     "name": "stderr",
     "output_type": "stream",
     "text": [
      "c:\\users\\user\\documents\\blindfold_chess_puzzles\\venv\\lib\\site-packages\\numpy\\core\\_asarray.py:102: VisibleDeprecationWarning: Creating an ndarray from ragged nested sequences (which is a list-or-tuple of lists-or-tuples-or ndarrays with different lengths or shapes) is deprecated. If you meant to do this, you must specify 'dtype=object' when creating the ndarray.\n",
      "  return array(a, dtype, copy=False, order=order)\n"
     ]
    }
   ],
   "source": [
    "# Make algebraic notation and clean\n",
    "df[\"moves_alg\"], df[\"final_fen\"], df[\"fen_after_first_move\"] = zip(*df.apply(moves_to_san, axis=1))"
   ]
  },
  {
   "cell_type": "code",
   "execution_count": 40,
   "metadata": {},
   "outputs": [],
   "source": [
    "# Split final fen for more information\n",
    "df[[\"placement\", \"active\", \"castling\", \"enpassant\", \"halfmove_clock\", \"fullmove_clock\"]] = df[\"fen_after_first_move\"].str.split(\" \", expand=True)"
   ]
  },
  {
   "cell_type": "code",
   "execution_count": 41,
   "metadata": {},
   "outputs": [],
   "source": [
    "def pieces_and_positions(x):\n",
    "    \"return the number of pieces and the positions as a sorted dictionairy\"\n",
    "    \n",
    "    # get the column with the FEN placement\n",
    "    placement = x[\"placement\"]\n",
    "    \n",
    "    all_squares = [chess.A1, chess.A2, chess.A3, chess.A4, chess.A5, chess.A6, chess.A7, chess.A8, \n",
    "                   chess.B1, chess.B2, chess.B3, chess.B4, chess.B5, chess.B6, chess.B7, chess.B8, \n",
    "                   chess.C1, chess.C2, chess.C3, chess.C4, chess.C5, chess.C6, chess.C7, chess.C8, \n",
    "                   chess.D1, chess.D2, chess.D3, chess.D4, chess.D5, chess.D6, chess.D7, chess.D8, \n",
    "                   chess.E1, chess.E2, chess.E3, chess.E4, chess.E5, chess.E6, chess.E7, chess.E8, \n",
    "                   chess.F1, chess.F2, chess.F3, chess.F4, chess.F5, chess.F6, chess.F7, chess.F8, \n",
    "                   chess.G1, chess.G2, chess.G3, chess.G4, chess.G5, chess.G6, chess.G7, chess.G8, \n",
    "                   chess.H1, chess.H2, chess.H3, chess.H4, chess.H5, chess.H6, chess.H7, chess.H8]\n",
    "    \n",
    "    # create temporary board\n",
    "    board = chess.Board(placement)\n",
    "    \n",
    "    # count all pieces from the FEN placement\n",
    "    number_pieces = len(re.findall(r\"[pPrRbBnNqQkK]\", placement))\n",
    "           \n",
    "    # create defaultdict with lists\n",
    "    positions_dict = defaultdict(list)\n",
    "    # iterate over all possible squares and if there is a piece append \n",
    "    # it to the default dict with the piece as key and position as value\n",
    "    for square in all_squares:\n",
    "            if piece := board.piece_at(square):\n",
    "                positions_dict[str(piece)].append(chess.square_name(square))\n",
    "    # order from white pawn to black king\n",
    "    order = {\"p\": 12, \"P\": 6, \"r\": 9, \"R\": 3, \"b\": 10, \"B\": 4, \"n\": 11, \"N\": 5, \"q\": 8, \"Q\": 2, \"k\": 7, \"K\": 1,}\n",
    "    positions = dict(OrderedDict(sorted(positions_dict.items(), key=lambda val: order[val[0]])))\n",
    "    \n",
    "    return number_pieces, positions"
   ]
  },
  {
   "cell_type": "code",
   "execution_count": 42,
   "metadata": {},
   "outputs": [],
   "source": [
    "# Count number of pieces, get all piece positions\n",
    "df[\"number_of_pieces\"], df[\"positions\"] = zip(*df.apply(pieces_and_positions, axis=1))"
   ]
  },
  {
   "cell_type": "code",
   "execution_count": 43,
   "metadata": {},
   "outputs": [],
   "source": [
    "# Drop columns\n",
    "df = df.drop(columns=[\"fen\", \"final_fen\", \"rating deviation\", \"popularity\", \"nbplays\", \"halfmove_clock\", \"fullmove_clock\", \"moves\", \"gameurl\", \"fen_after_first_move\", \"placement\", \"themes\"])"
   ]
  },
  {
   "cell_type": "code",
   "execution_count": 44,
   "metadata": {},
   "outputs": [],
   "source": [
    "# Create IDs\n",
    "df['id'] = np.arange(1, df.shape[0] + 1)"
   ]
  },
  {
   "cell_type": "code",
   "execution_count": 52,
   "metadata": {},
   "outputs": [],
   "source": [
    "df = df[df[\"number_of_pieces\"] <= 9]"
   ]
  },
  {
   "cell_type": "code",
   "execution_count": null,
   "metadata": {},
   "outputs": [],
   "source": [
    "df.to_csv(\"../data/puzzles_alg.csv\", index=False)"
   ]
  },
  {
   "cell_type": "code",
   "execution_count": 53,
   "metadata": {},
   "outputs": [],
   "source": [
    "df.to_json(\"../data/puzzles_alg.json\", orient=\"records\")"
   ]
  },
  {
   "cell_type": "markdown",
   "metadata": {},
   "source": [
    "# Testing"
   ]
  },
  {
   "cell_type": "code",
   "execution_count": null,
   "metadata": {},
   "outputs": [],
   "source": [
    "df.head()"
   ]
  },
  {
   "cell_type": "code",
   "execution_count": null,
   "metadata": {},
   "outputs": [],
   "source": [
    "df.iloc[0, :]"
   ]
  },
  {
   "cell_type": "code",
   "execution_count": null,
   "metadata": {},
   "outputs": [],
   "source": [
    "board = chess.Board(placement)"
   ]
  },
  {
   "cell_type": "code",
   "execution_count": null,
   "metadata": {},
   "outputs": [],
   "source": [
    "df[df[\"castling\"] != \"-\"][\"castling\"]"
   ]
  },
  {
   "cell_type": "code",
   "execution_count": 50,
   "metadata": {},
   "outputs": [
    {
     "data": {
      "text/plain": [
       "550"
      ]
     },
     "execution_count": 50,
     "metadata": {},
     "output_type": "execute_result"
    }
   ],
   "source": [
    "df[\"rating\"].min()\n"
   ]
  },
  {
   "cell_type": "code",
   "execution_count": 48,
   "metadata": {},
   "outputs": [
    {
     "data": {
      "text/plain": [
       "2848"
      ]
     },
     "execution_count": 48,
     "metadata": {},
     "output_type": "execute_result"
    }
   ],
   "source": [
    "len(df[df[\"number_of_pieces\"] < 9])"
   ]
  },
  {
   "cell_type": "code",
   "execution_count": 51,
   "metadata": {},
   "outputs": [
    {
     "data": {
      "text/plain": [
       "3"
      ]
     },
     "execution_count": 51,
     "metadata": {},
     "output_type": "execute_result"
    }
   ],
   "source": [
    "df[df[\"number_of_pieces\"] < 9][\"number_of_pieces\"].min()"
   ]
  },
  {
   "cell_type": "code",
   "execution_count": null,
   "metadata": {},
   "outputs": [],
   "source": []
  }
 ],
 "metadata": {
  "kernelspec": {
   "display_name": "Python 3",
   "language": "python",
   "name": "python3"
  },
  "language_info": {
   "codemirror_mode": {
    "name": "ipython",
    "version": 3
   },
   "file_extension": ".py",
   "mimetype": "text/x-python",
   "name": "python",
   "nbconvert_exporter": "python",
   "pygments_lexer": "ipython3",
   "version": "3.9.4"
  },
  "metadata": {
   "interpreter": {
    "hash": "e2a7c3d20469dda411fd3211f02092a920078d1ca97c72d3dc7928b841d3a44a"
   }
  }
 },
 "nbformat": 4,
 "nbformat_minor": 2
}
