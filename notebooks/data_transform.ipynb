{
 "cells": [
  {
   "cell_type": "code",
   "execution_count": 1,
   "metadata": {},
   "outputs": [],
   "source": [
    "import re\n",
    "from collections import defaultdict, OrderedDict\n",
    "\n",
    "import numpy as np\n",
    "import pandas as pd\n",
    "import chess"
   ]
  },
  {
   "cell_type": "code",
   "execution_count": 2,
   "metadata": {},
   "outputs": [],
   "source": [
    "df = pd.read_csv(\"../data/lichess_db_puzzle.csv\", header=None)"
   ]
  },
  {
   "cell_type": "code",
   "execution_count": 3,
   "metadata": {},
   "outputs": [],
   "source": [
    "df = df[:1000]"
   ]
  },
  {
   "cell_type": "code",
   "execution_count": 4,
   "metadata": {},
   "outputs": [],
   "source": [
    "df = df.rename(columns={0: \"id\", 1: \"fen\", 2: \"moves\", 3: \"rating\", 4: \"rating deviation\", 5: \"popularity\", 6: \"nbplays\", 7: \"themes\", 8: \"gameurl\"})"
   ]
  },
  {
   "cell_type": "code",
   "execution_count": 5,
   "metadata": {},
   "outputs": [],
   "source": [
    "def moves_to_san(x):\n",
    "    \"Transform the list of moves to a list of moves in the algebraic notation\"\n",
    "    \n",
    "    # get fen and puzzule solution in uic format\n",
    "    fen = x[\"fen\"]\n",
    "    moves = x[\"moves\"]\n",
    "    \n",
    "    # create temporary board\n",
    "    board = chess.Board(fen)\n",
    "    \n",
    "    # make a list of the solution\n",
    "    moves_list = moves.split(\" \")\n",
    "    san_list = \"\"\n",
    "    \n",
    "    # we need the first fen after the first solution move because it is played by the cpu\n",
    "    need_fen_after_first_move = True\n",
    "    \n",
    "    # iterate over the moves and play it on the temporary board\n",
    "    for move in moves_list:\n",
    "        next_move = chess.Move.from_uci(move)\n",
    "        # get the algebraic notation of the move and append it to the string\n",
    "        san = board.san(next_move)\n",
    "        san_list = san_list + \" \" + san\n",
    "        board.push(next_move)\n",
    "        \n",
    "        # saves the needed first fen\n",
    "        if need_fen_after_first_move:\n",
    "            fen_after_first_move = board.fen()\n",
    "            need_fen_after_first_move = False\n",
    "            \n",
    "    return san_list, board.fen(), fen_after_first_move"
   ]
  },
  {
   "cell_type": "code",
   "execution_count": 6,
   "metadata": {},
   "outputs": [],
   "source": [
    "# Make algebraic notation and clean\n",
    "df[\"moves_alg\"], df[\"final_fen\"], df[\"fen_after_first_move\"] = zip(*df.apply(moves_to_san, axis=1))"
   ]
  },
  {
   "cell_type": "code",
   "execution_count": 7,
   "metadata": {},
   "outputs": [],
   "source": [
    "# Split final fen for more information\n",
    "df[[\"placement\", \"active\", \"castling\", \"enpassant\", \"halfmove_clock\", \"fullmove_clock\"]] = df[\"fen_after_first_move\"].str.split(\" \", expand=True)"
   ]
  },
  {
   "cell_type": "code",
   "execution_count": 8,
   "metadata": {},
   "outputs": [],
   "source": [
    "def pieces_and_positions(x):\n",
    "    \"return the number of pieces and the positions as a sorted dictionairy\"\n",
    "    \n",
    "    # get the column with the FEN placement\n",
    "    placement = x[\"placement\"]\n",
    "    \n",
    "    all_squares = [chess.A1, chess.A2, chess.A3, chess.A4, chess.A5, chess.A6, chess.A7, chess.A8, \n",
    "                   chess.B1, chess.B2, chess.B3, chess.B4, chess.B5, chess.B6, chess.B7, chess.B8, \n",
    "                   chess.C1, chess.C2, chess.C3, chess.C4, chess.C5, chess.C6, chess.C7, chess.C8, \n",
    "                   chess.D1, chess.D2, chess.D3, chess.D4, chess.D5, chess.D6, chess.D7, chess.D8, \n",
    "                   chess.E1, chess.E2, chess.E3, chess.E4, chess.E5, chess.E6, chess.E7, chess.E8, \n",
    "                   chess.F1, chess.F2, chess.F3, chess.F4, chess.F5, chess.F6, chess.F7, chess.F8, \n",
    "                   chess.G1, chess.G2, chess.G3, chess.G4, chess.G5, chess.G6, chess.G7, chess.G8, \n",
    "                   chess.H1, chess.H2, chess.H3, chess.H4, chess.H5, chess.H6, chess.H7, chess.H8]\n",
    "    \n",
    "    # create temporary board\n",
    "    board = chess.Board(placement)\n",
    "    \n",
    "    # count all pieces from the FEN placement\n",
    "    number_pieces = len(re.findall(r\"[pPrRbBnNqQkK]\", placement))\n",
    "           \n",
    "    # create defaultdict with lists\n",
    "    positions_dict = defaultdict(list)\n",
    "    # iterate over all possible squares and if there is a piece append \n",
    "    # it to the default dict with the piece as key and position as value\n",
    "    for square in all_squares:\n",
    "            if piece := board.piece_at(square):\n",
    "                positions_dict[str(piece)].append(chess.square_name(square))\n",
    "    # order from white pawn to black king\n",
    "    order = {\"p\": 6, \"P\": 0, \"r\": 7, \"R\": 1, \"b\": 8, \"B\": 2, \"n\": 9, \"N\": 3, \"q\": 10, \"Q\": 4, \"k\": 11, \"K\": 5,}\n",
    "    positions = dict(OrderedDict(sorted(positions_dict.items(), key=lambda val: order[val[0]])))\n",
    "    \n",
    "    return number_pieces, positions"
   ]
  },
  {
   "cell_type": "code",
   "execution_count": 9,
   "metadata": {},
   "outputs": [],
   "source": [
    "# Count number of pieces, get all piece positions\n",
    "df[\"number_of_pieces\"], df[\"positions\"] = zip(*df.apply(pieces_and_positions, axis=1))"
   ]
  },
  {
   "cell_type": "code",
   "execution_count": 10,
   "metadata": {},
   "outputs": [],
   "source": [
    "# Drop columns\n",
    "df = df.drop(columns=[\"id\", \"fen\", \"final_fen\", \"rating deviation\", \"popularity\", \"nbplays\", \"halfmove_clock\", \"fullmove_clock\"])"
   ]
  },
  {
   "cell_type": "code",
   "execution_count": 11,
   "metadata": {},
   "outputs": [],
   "source": [
    "# Create IDs\n",
    "df['id'] = np.arange(1, df.shape[0] + 1)"
   ]
  },
  {
   "cell_type": "code",
   "execution_count": null,
   "metadata": {},
   "outputs": [],
   "source": [
    "df.to_csv(\"../data/puzzles_alg.csv\", index=False)"
   ]
  },
  {
   "cell_type": "code",
   "execution_count": 12,
   "metadata": {},
   "outputs": [],
   "source": [
    "df.to_json(\"../data/puzzles_alg.json\", orient=\"records\")"
   ]
  },
  {
   "cell_type": "markdown",
   "metadata": {},
   "source": [
    "# Testing"
   ]
  },
  {
   "cell_type": "code",
   "execution_count": null,
   "metadata": {},
   "outputs": [],
   "source": [
    "df.head()"
   ]
  },
  {
   "cell_type": "code",
   "execution_count": null,
   "metadata": {},
   "outputs": [],
   "source": [
    "placement = df.iloc[0, :][\"placement\"]"
   ]
  },
  {
   "cell_type": "code",
   "execution_count": null,
   "metadata": {},
   "outputs": [],
   "source": [
    "board = chess.Board(placement)"
   ]
  }
 ],
 "metadata": {
  "kernelspec": {
   "display_name": "Python 3",
   "language": "python",
   "name": "python3"
  },
  "language_info": {
   "codemirror_mode": {
    "name": "ipython",
    "version": 3
   },
   "file_extension": ".py",
   "mimetype": "text/x-python",
   "name": "python",
   "nbconvert_exporter": "python",
   "pygments_lexer": "ipython3",
   "version": "3.9.4"
  },
  "metadata": {
   "interpreter": {
    "hash": "e2a7c3d20469dda411fd3211f02092a920078d1ca97c72d3dc7928b841d3a44a"
   }
  }
 },
 "nbformat": 4,
 "nbformat_minor": 2
}
